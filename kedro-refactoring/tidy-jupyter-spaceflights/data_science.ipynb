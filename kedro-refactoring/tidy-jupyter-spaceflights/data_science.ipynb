{
 "cells": [
  {
   "cell_type": "markdown",
   "id": "chinese-tanzania",
   "metadata": {},
   "source": [
    "# Model the price of spaceflights using linear regression and find score on test set"
   ]
  },
  {
   "cell_type": "code",
   "execution_count": 1,
   "id": "secret-reynolds",
   "metadata": {},
   "outputs": [],
   "source": [
    "import pandas as pd\n",
    "from sklearn.linear_model import LinearRegression\n",
    "from sklearn.metrics import r2_score\n",
    "from sklearn.model_selection import train_test_split"
   ]
  },
  {
   "cell_type": "markdown",
   "id": "fifth-chapter",
   "metadata": {},
   "source": [
    "## Load data"
   ]
  },
  {
   "cell_type": "code",
   "execution_count": 2,
   "id": "vertical-glucose",
   "metadata": {},
   "outputs": [],
   "source": [
    "data_input = \"data/intermediate/\"\n",
    "master_table = pd.read_csv(data_input + \"master_table.csv\")"
   ]
  },
  {
   "cell_type": "markdown",
   "id": "vulnerable-skiing",
   "metadata": {},
   "source": [
    "## Parameters"
   ]
  },
  {
   "cell_type": "code",
   "execution_count": 3,
   "id": "varied-entrance",
   "metadata": {},
   "outputs": [],
   "source": [
    "features = [\"engines\", \"passenger_capacity\", \"crew\", \"d_check_complete\", \"moon_clearance_complete\", \"iata_approved\", \"company_rating\", \"review_scores_rating\"]\n",
    "test_size = 0.2\n",
    "random_state = 3"
   ]
  },
  {
   "cell_type": "markdown",
   "id": "fourth-model",
   "metadata": {},
   "source": [
    "## Main functions to run"
   ]
  },
  {
   "cell_type": "code",
   "execution_count": 5,
   "id": "overhead-senegal",
   "metadata": {},
   "outputs": [],
   "source": [
    "def split_data(data, features, test_size, random_state):\n",
    "    X = data[features]\n",
    "    y = data[\"price\"]\n",
    "    X_train, X_test, y_train, y_test = train_test_split(\n",
    "        X, y, test_size=test_size, random_state=random_state\n",
    "    )\n",
    "    return X_train, X_test, y_train, y_test    \n",
    "\n",
    "def train_model(X_train, y_train):\n",
    "    regressor = LinearRegression()\n",
    "    regressor.fit(X_train, y_train)\n",
    "    return regressor\n",
    "\n",
    "def evaluate_model(regressor, X_test, y_test):\n",
    "    y_pred = regressor.predict(X_test)\n",
    "    score = r2_score(y_test, y_pred)\n",
    "    print(f\"Model has a coefficient R^2 of {score:.3} on test data.\")"
   ]
  },
  {
   "cell_type": "markdown",
   "id": "greatest-liberty",
   "metadata": {},
   "source": [
    "## Run"
   ]
  },
  {
   "cell_type": "code",
   "execution_count": 8,
   "id": "nonprofit-hamburg",
   "metadata": {},
   "outputs": [
    {
     "name": "stdout",
     "output_type": "stream",
     "text": [
      "Model has a coefficient R^2 of 0.462 on test data.\n"
     ]
    }
   ],
   "source": [
    "X_train, X_test, y_train, y_test = split_data(master_table, features, test_size, random_state)\n",
    "regressor = train_model(X_train, y_train)\n",
    "evaluate_model(regressor, X_test, y_test)"
   ]
  },
  {
   "cell_type": "markdown",
   "id": "direct-station",
   "metadata": {},
   "source": [
    "## Save model"
   ]
  },
  {
   "cell_type": "code",
   "execution_count": 9,
   "id": "unknown-acrylic",
   "metadata": {},
   "outputs": [],
   "source": [
    "import pickle\n",
    "\n",
    "filehandler = open(\"regressor.p\", \"wb\")\n",
    "pickle.dump(regressor,filehandler)\n",
    "filehandler.close()"
   ]
  }
 ],
 "metadata": {
  "kernelspec": {
   "display_name": "Python 3",
   "language": "python",
   "name": "python3"
  },
  "language_info": {
   "codemirror_mode": {
    "name": "ipython",
    "version": 3
   },
   "file_extension": ".py",
   "mimetype": "text/x-python",
   "name": "python",
   "nbconvert_exporter": "python",
   "pygments_lexer": "ipython3",
   "version": "3.8.8"
  }
 },
 "nbformat": 4,
 "nbformat_minor": 5
}
