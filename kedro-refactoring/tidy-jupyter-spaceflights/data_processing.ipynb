{
 "cells": [
  {
   "cell_type": "markdown",
   "id": "historical-maine",
   "metadata": {},
   "source": [
    "# Make the master table for input to modeling\n",
    "Load the tables, do some transformation and then join together"
   ]
  },
  {
   "cell_type": "code",
   "execution_count": 1,
   "id": "american-coverage",
   "metadata": {},
   "outputs": [],
   "source": [
    "import pandas as pd"
   ]
  },
  {
   "cell_type": "markdown",
   "id": "wanted-guitar",
   "metadata": {},
   "source": [
    "## Load data"
   ]
  },
  {
   "cell_type": "code",
   "execution_count": 2,
   "id": "rough-desperate",
   "metadata": {},
   "outputs": [],
   "source": [
    "data_input = \"data/input/\"\n",
    "companies = pd.read_csv(data_input + \"companies.csv\")\n",
    "reviews = pd.read_csv(data_input + \"reviews.csv\")\n",
    "shuttles = pd.read_excel(data_input + \"shuttles.xlsx\")"
   ]
  },
  {
   "cell_type": "markdown",
   "id": "atlantic-proportion",
   "metadata": {},
   "source": [
    "## Helper functions"
   ]
  },
  {
   "cell_type": "code",
   "execution_count": 3,
   "id": "ongoing-morning",
   "metadata": {},
   "outputs": [],
   "source": [
    "def _is_true(x):\n",
    "    return x == \"t\"\n",
    "\n",
    "def _parse_percentage(x):\n",
    "    x = x.str.replace(\"%\", \"\")\n",
    "    x = x.astype(float) / 100\n",
    "    return x\n",
    "\n",
    "def _parse_money(x):\n",
    "    x = x.str.replace(\"$\", '').str.replace(\",\", '')\n",
    "    x = x.astype(float)\n",
    "    return x"
   ]
  },
  {
   "cell_type": "markdown",
   "id": "hindu-policy",
   "metadata": {},
   "source": [
    "## Main functions to run"
   ]
  },
  {
   "cell_type": "code",
   "execution_count": 4,
   "id": "correct-devon",
   "metadata": {},
   "outputs": [],
   "source": [
    "def preprocess_companies(companies):\n",
    "    companies['iata_approved'] = _is_true(companies['iata_approved'])\n",
    "    companies[\"company_rating\"] = _parse_percentage(companies['company_rating'])\n",
    "    return companies"
   ]
  },
  {
   "cell_type": "code",
   "execution_count": 5,
   "id": "possible-western",
   "metadata": {},
   "outputs": [],
   "source": [
    "def preprocess_shuttles(shuttles):\n",
    "    shuttles[\"d_check_complete\"] = _is_true(shuttles[\"d_check_complete\"])\n",
    "    shuttles['moon_clearance_complete'] = _is_true(shuttles[\"moon_clearance_complete\"])\n",
    "    shuttles[\"price\"] = _parse_money(shuttles['price'])\n",
    "    return shuttles"
   ]
  },
  {
   "cell_type": "code",
   "execution_count": 6,
   "id": "environmental-polls",
   "metadata": {},
   "outputs": [],
   "source": [
    "def create_master_table(shuttles, companies, reviews):\n",
    "    rated_shuttles = shuttles.merge(reviews, left_on=\"id\", right_on=\"shuttle_id\")\n",
    "    master_table = rated_shuttles.merge(companies, left_on=\"company_id\", right_on=\"id\")\n",
    "    master_table = master_table.dropna()\n",
    "    return master_table"
   ]
  },
  {
   "cell_type": "markdown",
   "id": "involved-tonight",
   "metadata": {},
   "source": [
    "## Run"
   ]
  },
  {
   "cell_type": "code",
   "execution_count": 7,
   "id": "aquatic-development",
   "metadata": {},
   "outputs": [],
   "source": [
    "processed_companies = preprocess_companies(companies)\n",
    "processed_shuttles = preprocess_shuttles(shuttles)\n",
    "master_table = create_master_table(shuttles, companies, reviews)"
   ]
  },
  {
   "cell_type": "markdown",
   "id": "detected-bahamas",
   "metadata": {},
   "source": [
    "## Save data"
   ]
  },
  {
   "cell_type": "code",
   "execution_count": 8,
   "id": "included-first",
   "metadata": {},
   "outputs": [],
   "source": [
    "master_table.to_csv(\"data/intermediate/master_table.csv\")"
   ]
  }
 ],
 "metadata": {
  "kernelspec": {
   "display_name": "Python 3",
   "language": "python",
   "name": "python3"
  },
  "language_info": {
   "codemirror_mode": {
    "name": "ipython",
    "version": 3
   },
   "file_extension": ".py",
   "mimetype": "text/x-python",
   "name": "python",
   "nbconvert_exporter": "python",
   "pygments_lexer": "ipython3",
   "version": "3.8.8"
  }
 },
 "nbformat": 4,
 "nbformat_minor": 5
}
