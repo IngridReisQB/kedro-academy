{
 "cells": [
  {
   "cell_type": "markdown",
   "id": "prospective-spirituality",
   "metadata": {},
   "source": [
    "# Make the master table for input to modeling\n",
    "Load the tables, do some transformation and then join together"
   ]
  },
  {
   "cell_type": "code",
   "execution_count": 1,
   "id": "exempt-worry",
   "metadata": {},
   "outputs": [],
   "source": [
    "import pandas as pd\n",
    "companies = pd.read_csv(\"companies.csv\")\n",
    "reviews = pd.read_csv(\"reviews.csv\")"
   ]
  },
  {
   "cell_type": "code",
   "execution_count": 2,
   "id": "utility-reservoir",
   "metadata": {},
   "outputs": [
    {
     "data": {
      "text/html": [
       "<div>\n",
       "<style scoped>\n",
       "    .dataframe tbody tr th:only-of-type {\n",
       "        vertical-align: middle;\n",
       "    }\n",
       "\n",
       "    .dataframe tbody tr th {\n",
       "        vertical-align: top;\n",
       "    }\n",
       "\n",
       "    .dataframe thead th {\n",
       "        text-align: right;\n",
       "    }\n",
       "</style>\n",
       "<table border=\"1\" class=\"dataframe\">\n",
       "  <thead>\n",
       "    <tr style=\"text-align: right;\">\n",
       "      <th></th>\n",
       "      <th>id</th>\n",
       "      <th>company_rating</th>\n",
       "      <th>company_location</th>\n",
       "      <th>total_fleet_count</th>\n",
       "      <th>iata_approved</th>\n",
       "    </tr>\n",
       "  </thead>\n",
       "  <tbody>\n",
       "    <tr>\n",
       "      <th>0</th>\n",
       "      <td>35029</td>\n",
       "      <td>100%</td>\n",
       "      <td>Niue</td>\n",
       "      <td>4.0</td>\n",
       "      <td>f</td>\n",
       "    </tr>\n",
       "    <tr>\n",
       "      <th>1</th>\n",
       "      <td>30292</td>\n",
       "      <td>67%</td>\n",
       "      <td>Anguilla</td>\n",
       "      <td>6.0</td>\n",
       "      <td>f</td>\n",
       "    </tr>\n",
       "    <tr>\n",
       "      <th>2</th>\n",
       "      <td>19032</td>\n",
       "      <td>67%</td>\n",
       "      <td>Russian Federation</td>\n",
       "      <td>4.0</td>\n",
       "      <td>f</td>\n",
       "    </tr>\n",
       "    <tr>\n",
       "      <th>3</th>\n",
       "      <td>8238</td>\n",
       "      <td>91%</td>\n",
       "      <td>Barbados</td>\n",
       "      <td>15.0</td>\n",
       "      <td>t</td>\n",
       "    </tr>\n",
       "    <tr>\n",
       "      <th>4</th>\n",
       "      <td>30342</td>\n",
       "      <td>NaN</td>\n",
       "      <td>Sao Tome and Principe</td>\n",
       "      <td>2.0</td>\n",
       "      <td>t</td>\n",
       "    </tr>\n",
       "  </tbody>\n",
       "</table>\n",
       "</div>"
      ],
      "text/plain": [
       "      id company_rating       company_location  total_fleet_count  \\\n",
       "0  35029           100%                   Niue                4.0   \n",
       "1  30292            67%               Anguilla                6.0   \n",
       "2  19032            67%     Russian Federation                4.0   \n",
       "3   8238            91%               Barbados               15.0   \n",
       "4  30342            NaN  Sao Tome and Principe                2.0   \n",
       "\n",
       "  iata_approved  \n",
       "0             f  \n",
       "1             f  \n",
       "2             f  \n",
       "3             t  \n",
       "4             t  "
      ]
     },
     "execution_count": 2,
     "metadata": {},
     "output_type": "execute_result"
    }
   ],
   "source": [
    "companies.head()"
   ]
  },
  {
   "cell_type": "code",
   "execution_count": null,
   "id": "opponent-massachusetts",
   "metadata": {},
   "outputs": [],
   "source": []
  },
  {
   "cell_type": "code",
   "execution_count": null,
   "id": "catholic-throw",
   "metadata": {},
   "outputs": [],
   "source": []
  },
  {
   "cell_type": "code",
   "execution_count": null,
   "id": "blind-injection",
   "metadata": {},
   "outputs": [],
   "source": []
  },
  {
   "cell_type": "code",
   "execution_count": 3,
   "id": "russian-transsexual",
   "metadata": {},
   "outputs": [
    {
     "ename": "NameError",
     "evalue": "name '_is_true' is not defined",
     "output_type": "error",
     "traceback": [
      "\u001b[0;31m---------------------------------------------------------------------------\u001b[0m",
      "\u001b[0;31mNameError\u001b[0m                                 Traceback (most recent call last)",
      "\u001b[0;32m<ipython-input-3-c639153bbb02>\u001b[0m in \u001b[0;36m<module>\u001b[0;34m\u001b[0m\n\u001b[0;32m----> 1\u001b[0;31m \u001b[0mcompanies\u001b[0m\u001b[0;34m[\u001b[0m\u001b[0;34m'iata_approved'\u001b[0m\u001b[0;34m]\u001b[0m \u001b[0;34m=\u001b[0m \u001b[0m_is_true\u001b[0m\u001b[0;34m(\u001b[0m\u001b[0mcompanies\u001b[0m\u001b[0;34m[\u001b[0m\u001b[0;34m'iata_approved'\u001b[0m\u001b[0;34m]\u001b[0m\u001b[0;34m)\u001b[0m\u001b[0;34m\u001b[0m\u001b[0;34m\u001b[0m\u001b[0m\n\u001b[0m\u001b[1;32m      2\u001b[0m \u001b[0mcompanies\u001b[0m\u001b[0;34m[\u001b[0m\u001b[0;34m\"company_rating\"\u001b[0m\u001b[0;34m]\u001b[0m \u001b[0;34m=\u001b[0m \u001b[0m_parse_percentage\u001b[0m\u001b[0;34m(\u001b[0m\u001b[0mcompanies\u001b[0m\u001b[0;34m[\u001b[0m\u001b[0;34m'company_rating'\u001b[0m\u001b[0;34m]\u001b[0m\u001b[0;34m)\u001b[0m\u001b[0;34m\u001b[0m\u001b[0;34m\u001b[0m\u001b[0m\n",
      "\u001b[0;31mNameError\u001b[0m: name '_is_true' is not defined"
     ]
    }
   ],
   "source": [
    "companies['iata_approved'] = _is_true(companies['iata_approved'])\n",
    "companies[\"company_rating\"] = _parse_percentage(companies['company_rating'])"
   ]
  },
  {
   "cell_type": "code",
   "execution_count": null,
   "id": "considered-nelson",
   "metadata": {},
   "outputs": [],
   "source": [
    "shuttles[\"d_check_complete\"] = _is_true(shuttles[\"d_check_complete\"])\n",
    "shuttles['moon_clearance_complete'] = _is_true(shuttles[\"moon_clearance_complete\"])\n",
    "shuttles[\"price\"] = _parse_money(shuttles['price'])"
   ]
  },
  {
   "cell_type": "code",
   "execution_count": null,
   "id": "worldwide-hygiene",
   "metadata": {},
   "outputs": [],
   "source": [
    "shuttles = pd.read_excel(\"shuttles.xlsx\")"
   ]
  },
  {
   "cell_type": "code",
   "execution_count": null,
   "id": "mechanical-campbell",
   "metadata": {},
   "outputs": [],
   "source": [
    "rated_shuttles = shuttles.merge(reviews, left_on=\"id\", right_on=\"shuttle_id\")\n",
    "master_table = rated_shuttles.merge(companies, left_on=\"company_id\", right_on=\"id\")\n",
    "master_table = master_table.dropna()"
   ]
  },
  {
   "cell_type": "code",
   "execution_count": null,
   "id": "identical-baseball",
   "metadata": {},
   "outputs": [],
   "source": [
    "import pandas as pd\n",
    "\n",
    "def _is_true(x):\n",
    "    return x == \"t\"\n",
    "\n",
    "def _parse_percentage(x):\n",
    "    x = x.str.replace(\"%\", \"\")\n",
    "    x = x.astype(float) / 100\n",
    "    return x\n",
    "\n",
    "def _parse_money(x):\n",
    "    x = x.str.replace(\"$\", '').str.replace(\",\", ')\n",
    "    x = x.astype(float)\n",
    "    return x"
   ]
  },
  {
   "cell_type": "code",
   "execution_count": null,
   "id": "aware-launch",
   "metadata": {},
   "outputs": [],
   "source": [
    "master_table.to_csv(\"master_table.csv\")"
   ]
  },
  {
   "cell_type": "code",
   "execution_count": null,
   "id": "aboriginal-gross",
   "metadata": {},
   "outputs": [],
   "source": []
  }
 ],
 "metadata": {
  "kernelspec": {
   "display_name": "Python 3",
   "language": "python",
   "name": "python3"
  },
  "language_info": {
   "codemirror_mode": {
    "name": "ipython",
    "version": 3
   },
   "file_extension": ".py",
   "mimetype": "text/x-python",
   "name": "python",
   "nbconvert_exporter": "python",
   "pygments_lexer": "ipython3",
   "version": "3.8.8"
  }
 },
 "nbformat": 4,
 "nbformat_minor": 5
}
