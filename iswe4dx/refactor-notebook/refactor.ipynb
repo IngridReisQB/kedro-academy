{
 "cells": [
  {
   "cell_type": "code",
   "execution_count": null,
   "metadata": {},
   "outputs": [],
   "source": [
    "# Inspired by https://github.com/wilsonlee0601/rock\n",
    "import numpy as np\n",
    "import pandas as pd\n",
    "import matplotlib.pyplot as plt"
   ]
  },
  {
   "cell_type": "code",
   "execution_count": null,
   "metadata": {},
   "outputs": [],
   "source": [
    "# Define the columns to compare\n",
    "features = [\"length_min\", \"danceability\", \"energy\", \"valence\"]"
   ]
  },
  {
   "cell_type": "code",
   "execution_count": null,
   "metadata": {},
   "outputs": [],
   "source": [
    "# Calculate means for each column in each dataframe\n",
    "means_rock = pd.Series(np.random.uniform(size=len(features)), index=features)\n",
    "means_metal = pd.Series(np.random.uniform(size=len(features)), index=features)\n",
    "means_punk = pd.Series(np.random.uniform(size=len(features)), index=features)"
   ]
  },
  {
   "cell_type": "code",
   "execution_count": null,
   "metadata": {},
   "outputs": [],
   "source": [
    "# Iterate over each column and create a separate bar chart\n",
    "for x in features:\n",
    "    f, a = plt.subplots()\n",
    "    a.bar([\"Rock\"], means_rock[x], label=\"Rock\")\n",
    "    a.bar([\"Metal\"], means_metal[x], label=\"Metal\")\n",
    "    a.bar([\"Punk\"], means_punk[x], label=\"Punk\")\n",
    "    a.set_xlabel(\" \")\n",
    "    a.set_ylabel(\"Mean\")\n",
    "    a.set_title(f\"Mean of {x} in the three genres\")\n",
    "    a.legend()\n",
    "    f.savefig(f\"output/{x}.png\")\n",
    "    display(f)"
   ]
  }
 ],
 "metadata": {
  "kernelspec": {
   "display_name": "refactor310",
   "language": "python",
   "name": "python3"
  },
  "language_info": {
   "codemirror_mode": {
    "name": "ipython",
    "version": 3
   },
   "file_extension": ".py",
   "mimetype": "text/x-python",
   "name": "python",
   "nbconvert_exporter": "python",
   "pygments_lexer": "ipython3",
   "version": "3.10.9"
  },
  "orig_nbformat": 4
 },
 "nbformat": 4,
 "nbformat_minor": 2
}
